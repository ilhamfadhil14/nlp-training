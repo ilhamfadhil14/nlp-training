{
 "cells": [
  {
   "cell_type": "markdown",
   "metadata": {},
   "source": [
    "# NLP Data Preprocessing"
   ]
  },
  {
   "cell_type": "code",
   "execution_count": 1,
   "metadata": {
    "scrolled": true
   },
   "outputs": [
    {
     "name": "stdout",
     "output_type": "stream",
     "text": [
      "Collecting sastrawi\n",
      "  Using cached Sastrawi-1.0.1-py2.py3-none-any.whl (209 kB)\n",
      "Installing collected packages: sastrawi\n",
      "Successfully installed sastrawi-1.0.1\n"
     ]
    }
   ],
   "source": [
    "!pip install sastrawi"
   ]
  },
  {
   "cell_type": "code",
   "execution_count": 25,
   "metadata": {},
   "outputs": [
    {
     "name": "stdout",
     "output_type": "stream",
     "text": [
      "Collecting tweet-preprocessor\n",
      "  Downloading tweet_preprocessor-0.6.0-py3-none-any.whl (27 kB)\n",
      "Installing collected packages: tweet-preprocessor\n",
      "Successfully installed tweet-preprocessor-0.6.0\n"
     ]
    }
   ],
   "source": [
    "!pip install tweet-preprocessor"
   ]
  },
  {
   "cell_type": "markdown",
   "metadata": {},
   "source": [
    "## Load Data\n",
    "### Data diambil dari link berikut https://github.com/rizalespe/Dataset-Sentimen-Analisis-Bahasa-Indonesia"
   ]
  },
  {
   "cell_type": "code",
   "execution_count": 2,
   "metadata": {},
   "outputs": [],
   "source": [
    "import pandas as pd\n",
    "data = pd.read_csv('mini_dataset.csv')"
   ]
  },
  {
   "cell_type": "code",
   "execution_count": 7,
   "metadata": {},
   "outputs": [
    {
     "data": {
      "text/plain": [
       "'Undang @N_ShaniJKT48 ke hitamputih, pemenang SSK JKT48 harusnya mJKT48 ini lebih Layak di Undang karena prestasinya'"
      ]
     },
     "execution_count": 7,
     "metadata": {},
     "output_type": "execute_result"
    }
   ],
   "source": [
    "data['Text Tweet'][0]"
   ]
  },
  {
   "cell_type": "code",
   "execution_count": 10,
   "metadata": {},
   "outputs": [],
   "source": [
    "TextTweet = data['Text Tweet']"
   ]
  },
  {
   "cell_type": "code",
   "execution_count": 29,
   "metadata": {},
   "outputs": [
    {
     "data": {
      "text/plain": [
       "0     Undang @N_ShaniJKT48 ke hitamputih, pemenang S...\n",
       "1     Selamat berbuka puasa Semoga amal ibadah hari ...\n",
       "2     Ada nih di trans7 hitam putih, dia dpt penghar...\n",
       "3           selamat ya mas @adietaufan masuk hitamputih\n",
       "4                     Asiknya nonton Hitam Putih Trans7\n",
       "5     @TRANS7 acara paling komplit dan menarik apala...\n",
       "6                      hitam putih T7 inspiratif banget\n",
       "7                  Suka banget dengan acara hitam putih\n",
       "8                        Keren lu bro #HitamPutihTrans7\n",
       "9     Tadi ada yg liat hitam putih di trans7 ga, Ada...\n",
       "10    Hitam putih bego, haruka diundang bentar biar ...\n",
       "11    Miris liat pemerintah, Juara angkat berat se-a...\n",
       "12    Juara 1 angkat berat Se-Asia, tdk menerima had...\n",
       "13    haruka lain kali kalau diundang ke hitam putih...\n",
       "14    Berasa aneh nonton acara Hitam Putih tapi peno...\n",
       "15    sedih dengar curhatanmu, Roxana. Semoga Tuhan ...\n",
       "16    Miris ketika anak Indonesia kesulitan mengguna...\n",
       "17    Sombongnya mentang2 kaya pake diumumkan, saya ...\n",
       "18    parah banget hitam putih di Trans7. Ngomong se...\n",
       "19    Orang bangkrut itu bukan perkara soal uang tet...\n",
       "Name: Text Tweet, dtype: object"
      ]
     },
     "execution_count": 29,
     "metadata": {},
     "output_type": "execute_result"
    }
   ],
   "source": [
    "TextTweet "
   ]
  },
  {
   "cell_type": "markdown",
   "metadata": {},
   "source": [
    "## Remove URL, Hastag, Mention, Emoji"
   ]
  },
  {
   "cell_type": "code",
   "execution_count": 26,
   "metadata": {},
   "outputs": [],
   "source": [
    "import preprocessor as p"
   ]
  },
  {
   "cell_type": "code",
   "execution_count": 27,
   "metadata": {},
   "outputs": [],
   "source": [
    "clean_text = []\n",
    "for text in TextTweet:\n",
    "    clean_text.append(p.clean(text))"
   ]
  },
  {
   "cell_type": "code",
   "execution_count": 28,
   "metadata": {
    "scrolled": true
   },
   "outputs": [
    {
     "data": {
      "text/plain": [
       "['Undang ke hitamputih, pemenang SSK JKT48 harusnya mJKT48 ini lebih Layak di Undang karena prestasinya',\n",
       " 'Selamat berbuka puasa Semoga amal ibadah hari ni diterima Allah',\n",
       " 'Ada nih di trans7 hitam putih, dia dpt penghargaan juga di norwegia',\n",
       " 'selamat ya mas masuk hitamputih',\n",
       " 'Asiknya nonton Hitam Putih Trans7',\n",
       " 'acara paling komplit dan menarik apalagi ada hitam putih',\n",
       " 'hitam putih T7 inspiratif banget',\n",
       " 'Suka banget dengan acara hitam putih',\n",
       " 'Keren lu bro',\n",
       " 'Tadi ada yg liat hitam putih di trans7 ga, Ada sanggu ganteng',\n",
       " 'Hitam putih bego, haruka diundang bentar biar pd liat younglex, udah gt malah dihina, Bego',\n",
       " 'Miris liat pemerintah, Juara angkat berat se-asia tp tdk ada biaya mengikuti kejurnas..',\n",
       " 'Juara angkat berat Se-Asia, tdk menerima hadiahnya dan tidak bisa ikut kejurnas karena terkendala biaya',\n",
       " 'haruka lain kali kalau diundang ke hitam putih ditolak aja, hostnya ga menghargai kamu',\n",
       " 'Berasa aneh nonton acara Hitam Putih tapi penonton nya anak yg sekolah di sekolah gua',\n",
       " 'sedih dengar curhatanmu, Roxana. Semoga Tuhan tunjukkan jalan dan titik terang utk Roxana',\n",
       " 'Miris ketika anak Indonesia kesulitan menggunakan Bahasa Indonesa dan lebih nyaman menggunakan bahasa asing',\n",
       " 'Sombongnya mentang2 kaya pake diumumkan, saya host kaya di Hitam Putih Trans7...!!!',\n",
       " 'parah banget hitam putih di Trans7. Ngomong sembarang. Yg merusak generasi muda acara kyk gini',\n",
       " 'Orang bangkrut itu bukan perkara soal uang tetapi bangkrut itu orang yang sudah tidak punya mimpi -BangQomar']"
      ]
     },
     "execution_count": 28,
     "metadata": {},
     "output_type": "execute_result"
    }
   ],
   "source": [
    "clean_text"
   ]
  },
  {
   "cell_type": "markdown",
   "metadata": {},
   "source": [
    "## Lowercasing"
   ]
  },
  {
   "cell_type": "code",
   "execution_count": 30,
   "metadata": {},
   "outputs": [],
   "source": [
    "lower_text=[]\n",
    "for text in clean_text:\n",
    "    lower_text.append(text.lower())"
   ]
  },
  {
   "cell_type": "code",
   "execution_count": 31,
   "metadata": {},
   "outputs": [
    {
     "data": {
      "text/plain": [
       "['undang ke hitamputih, pemenang ssk jkt48 harusnya mjkt48 ini lebih layak di undang karena prestasinya',\n",
       " 'selamat berbuka puasa semoga amal ibadah hari ni diterima allah',\n",
       " 'ada nih di trans7 hitam putih, dia dpt penghargaan juga di norwegia',\n",
       " 'selamat ya mas masuk hitamputih',\n",
       " 'asiknya nonton hitam putih trans7',\n",
       " 'acara paling komplit dan menarik apalagi ada hitam putih',\n",
       " 'hitam putih t7 inspiratif banget',\n",
       " 'suka banget dengan acara hitam putih',\n",
       " 'keren lu bro',\n",
       " 'tadi ada yg liat hitam putih di trans7 ga, ada sanggu ganteng',\n",
       " 'hitam putih bego, haruka diundang bentar biar pd liat younglex, udah gt malah dihina, bego',\n",
       " 'miris liat pemerintah, juara angkat berat se-asia tp tdk ada biaya mengikuti kejurnas..',\n",
       " 'juara angkat berat se-asia, tdk menerima hadiahnya dan tidak bisa ikut kejurnas karena terkendala biaya',\n",
       " 'haruka lain kali kalau diundang ke hitam putih ditolak aja, hostnya ga menghargai kamu',\n",
       " 'berasa aneh nonton acara hitam putih tapi penonton nya anak yg sekolah di sekolah gua',\n",
       " 'sedih dengar curhatanmu, roxana. semoga tuhan tunjukkan jalan dan titik terang utk roxana',\n",
       " 'miris ketika anak indonesia kesulitan menggunakan bahasa indonesa dan lebih nyaman menggunakan bahasa asing',\n",
       " 'sombongnya mentang2 kaya pake diumumkan, saya host kaya di hitam putih trans7...!!!',\n",
       " 'parah banget hitam putih di trans7. ngomong sembarang. yg merusak generasi muda acara kyk gini',\n",
       " 'orang bangkrut itu bukan perkara soal uang tetapi bangkrut itu orang yang sudah tidak punya mimpi -bangqomar']"
      ]
     },
     "execution_count": 31,
     "metadata": {},
     "output_type": "execute_result"
    }
   ],
   "source": [
    "lower_text"
   ]
  },
  {
   "cell_type": "markdown",
   "metadata": {},
   "source": [
    "## Remove Stopwords"
   ]
  },
  {
   "cell_type": "code",
   "execution_count": 44,
   "metadata": {},
   "outputs": [
    {
     "name": "stdout",
     "output_type": "stream",
     "text": [
      "['yang', 'untuk', 'pada', 'ke', 'para', 'namun', 'menurut', 'antara', 'dia', 'dua', 'ia', 'seperti', 'jika', 'jika', 'sehingga', 'kembali', 'dan', 'tidak', 'ini', 'karena', 'kepada', 'oleh', 'saat', 'harus', 'sementara', 'setelah', 'belum', 'kami', 'sekitar', 'bagi', 'serta', 'di', 'dari', 'telah', 'sebagai', 'masih', 'hal', 'ketika', 'adalah', 'itu', 'dalam', 'bisa', 'bahwa', 'atau', 'hanya', 'kita', 'dengan', 'akan', 'juga', 'ada', 'mereka', 'sudah', 'saya', 'terhadap', 'secara', 'agar', 'lain', 'anda', 'begitu', 'mengapa', 'kenapa', 'yaitu', 'yakni', 'daripada', 'itulah', 'lagi', 'maka', 'tentang', 'demi', 'dimana', 'kemana', 'pula', 'sambil', 'sebelum', 'sesudah', 'supaya', 'guna', 'kah', 'pun', 'sampai', 'sedangkan', 'selagi', 'sementara', 'tetapi', 'apakah', 'kecuali', 'sebab', 'selain', 'seolah', 'seraya', 'seterusnya', 'tanpa', 'agak', 'boleh', 'dapat', 'dsb', 'dst', 'dll', 'dahulu', 'dulunya', 'anu', 'demikian', 'tapi', 'ingin', 'juga', 'nggak', 'mari', 'nanti', 'melainkan', 'oh', 'ok', 'seharusnya', 'sebetulnya', 'setiap', 'setidaknya', 'sesuatu', 'pasti', 'saja', 'toh', 'ya', 'walau', 'tolong', 'tentu', 'amat', 'apalagi', 'bagaimanapun']\n"
     ]
    }
   ],
   "source": [
    "from Sastrawi.StopWordRemover.StopWordRemoverFactory import StopWordRemoverFactory, StopWordRemover, ArrayDictionary\n",
    "stop_factory = StopWordRemoverFactory()\n",
    "print(stop_factory.get_stop_words())"
   ]
  },
  {
   "cell_type": "code",
   "execution_count": 45,
   "metadata": {},
   "outputs": [],
   "source": [
    "more_stopword = ['lu','gua','yg']\n",
    "dictionary = ArrayDictionary(data)\n",
    "stopword = StopWordRemover(dictionary)"
   ]
  },
  {
   "cell_type": "code",
   "execution_count": 46,
   "metadata": {},
   "outputs": [],
   "source": [
    "no_stopwords_text=[]\n",
    "for text in lower_text:\n",
    "    no_stopwords_text.append(stopword.remove(text))"
   ]
  },
  {
   "cell_type": "code",
   "execution_count": 47,
   "metadata": {},
   "outputs": [
    {
     "data": {
      "text/plain": [
       "['undang hitamputih, pemenang ssk jkt48 harusnya mjkt48 lebih layak undang prestasinya',\n",
       " 'selamat berbuka puasa semoga amal ibadah hari ni diterima allah',\n",
       " 'nih trans7 hitam putih, dpt penghargaan di norwegia',\n",
       " 'selamat mas masuk hitamputih',\n",
       " 'asiknya nonton hitam putih trans7',\n",
       " 'acara paling komplit menarik ada hitam putih',\n",
       " 'hitam putih t7 inspiratif banget',\n",
       " 'suka banget acara hitam putih',\n",
       " 'keren bro',\n",
       " 'tadi yg liat hitam putih trans7 ga, sanggu ganteng',\n",
       " 'hitam putih bego, haruka diundang bentar biar pd liat younglex, udah gt malah dihina, bego',\n",
       " 'miris liat pemerintah, juara angkat berat se-asia tp tdk biaya mengikuti kejurnas..',\n",
       " 'juara angkat berat se-asia, tdk menerima hadiahnya tidak ikut kejurnas terkendala biaya',\n",
       " 'haruka kali kalau diundang hitam putih ditolak aja, hostnya ga menghargai kamu',\n",
       " 'berasa aneh nonton acara hitam putih penonton nya anak sekolah sekolah',\n",
       " 'sedih dengar curhatanmu, roxana. semoga tuhan tunjukkan jalan titik terang utk roxana',\n",
       " 'miris anak indonesia kesulitan menggunakan bahasa indonesa lebih nyaman menggunakan bahasa asing',\n",
       " 'sombongnya mentang2 kaya pake diumumkan, host kaya hitam putih trans7...!!!',\n",
       " 'parah banget hitam putih trans7. ngomong sembarang. merusak generasi muda acara kyk gini',\n",
       " 'orang bangkrut bukan perkara soal uang bangkrut orang sudah punya mimpi -bangqomar']"
      ]
     },
     "execution_count": 47,
     "metadata": {},
     "output_type": "execute_result"
    }
   ],
   "source": [
    "no_stopwords_text"
   ]
  },
  {
   "cell_type": "markdown",
   "metadata": {},
   "source": [
    "## Remove Punctuation"
   ]
  },
  {
   "cell_type": "code",
   "execution_count": 52,
   "metadata": {},
   "outputs": [],
   "source": [
    "def remove_punct(text):\n",
    "    clean_text = re.sub(r'[^\\w\\s]', '', text)\n",
    "    return clean_text"
   ]
  },
  {
   "cell_type": "code",
   "execution_count": 53,
   "metadata": {},
   "outputs": [
    {
     "data": {
      "text/plain": [
       "'sekarang hari senin'"
      ]
     },
     "execution_count": 53,
     "metadata": {},
     "output_type": "execute_result"
    }
   ],
   "source": [
    "remove_punct(\"?><:<:<:sekarang ha@ri se^^nin\")"
   ]
  },
  {
   "cell_type": "code",
   "execution_count": 54,
   "metadata": {},
   "outputs": [],
   "source": [
    "no_punct_text=[]\n",
    "for text in no_stopwords_text:\n",
    "    no_punct_text.append(remove_punct(text))"
   ]
  },
  {
   "cell_type": "code",
   "execution_count": 55,
   "metadata": {},
   "outputs": [
    {
     "data": {
      "text/plain": [
       "['undang hitamputih pemenang ssk jkt48 harusnya mjkt48 lebih layak undang prestasinya',\n",
       " 'selamat berbuka puasa semoga amal ibadah hari ni diterima allah',\n",
       " 'nih trans7 hitam putih dpt penghargaan di norwegia',\n",
       " 'selamat mas masuk hitamputih',\n",
       " 'asiknya nonton hitam putih trans7',\n",
       " 'acara paling komplit menarik ada hitam putih',\n",
       " 'hitam putih t7 inspiratif banget',\n",
       " 'suka banget acara hitam putih',\n",
       " 'keren bro',\n",
       " 'tadi yg liat hitam putih trans7 ga sanggu ganteng',\n",
       " 'hitam putih bego haruka diundang bentar biar pd liat younglex udah gt malah dihina bego',\n",
       " 'miris liat pemerintah juara angkat berat seasia tp tdk biaya mengikuti kejurnas',\n",
       " 'juara angkat berat seasia tdk menerima hadiahnya tidak ikut kejurnas terkendala biaya',\n",
       " 'haruka kali kalau diundang hitam putih ditolak aja hostnya ga menghargai kamu',\n",
       " 'berasa aneh nonton acara hitam putih penonton nya anak sekolah sekolah',\n",
       " 'sedih dengar curhatanmu roxana semoga tuhan tunjukkan jalan titik terang utk roxana',\n",
       " 'miris anak indonesia kesulitan menggunakan bahasa indonesa lebih nyaman menggunakan bahasa asing',\n",
       " 'sombongnya mentang2 kaya pake diumumkan host kaya hitam putih trans7',\n",
       " 'parah banget hitam putih trans7 ngomong sembarang merusak generasi muda acara kyk gini',\n",
       " 'orang bangkrut bukan perkara soal uang bangkrut orang sudah punya mimpi bangqomar']"
      ]
     },
     "execution_count": 55,
     "metadata": {},
     "output_type": "execute_result"
    }
   ],
   "source": [
    "no_punct_text"
   ]
  },
  {
   "cell_type": "markdown",
   "metadata": {},
   "source": [
    "## Stemming"
   ]
  },
  {
   "cell_type": "code",
   "execution_count": 56,
   "metadata": {},
   "outputs": [],
   "source": [
    "from Sastrawi.Stemmer.StemmerFactory import StemmerFactory\n",
    "factory = StemmerFactory()\n",
    "stemmer = factory.create_stemmer()"
   ]
  },
  {
   "cell_type": "code",
   "execution_count": 58,
   "metadata": {},
   "outputs": [
    {
     "name": "stdout",
     "output_type": "stream",
     "text": [
      "ekonomi indonesia sedang dalam tumbuh yang bangga mana pempek ada adalah barang export nomor 1\n"
     ]
    }
   ],
   "source": [
    "sentence = 'Perekonomian Indonesia sedang dalam pertumbuhan yang membanggakan dimana pempek adaan adalah barang export nomor 1'\n",
    "output = stemmer.stem(sentence)\n",
    "print(output)"
   ]
  },
  {
   "cell_type": "code",
   "execution_count": 59,
   "metadata": {},
   "outputs": [],
   "source": [
    "stemmed_text = []\n",
    "for text in no_punct_text:\n",
    "    stemmed_text.append(stemmer.stem(text))"
   ]
  },
  {
   "cell_type": "code",
   "execution_count": 60,
   "metadata": {},
   "outputs": [
    {
     "data": {
      "text/plain": [
       "['undang hitamputih menang ssk jkt48 harus mjkt48 lebih layak undang prestasi',\n",
       " 'selamat buka puasa moga amal ibadah hari ni terima allah',\n",
       " 'nih trans7 hitam putih dpt harga di norwegia',\n",
       " 'selamat mas masuk hitamputih',\n",
       " 'asiknya nonton hitam putih trans7',\n",
       " 'acara paling komplit tarik ada hitam putih',\n",
       " 'hitam putih t7 inspiratif banget',\n",
       " 'suka banget acara hitam putih',\n",
       " 'keren bro',\n",
       " 'tadi yg liat hitam putih trans7 ga sanggu ganteng',\n",
       " 'hitam putih bego haruka undang bentar biar pd liat younglex udah gt malah hina bego',\n",
       " 'miris liat perintah juara angkat berat seasia tp tdk biaya ikut kejurnas',\n",
       " 'juara angkat berat seasia tdk terima hadiah tidak ikut kejurnas kendala biaya',\n",
       " 'haruka kali kalau undang hitam putih tolak aja hostnya ga harga kamu',\n",
       " 'asa aneh nonton acara hitam putih tonton nya anak sekolah sekolah',\n",
       " 'sedih dengar curhatanmu roxana moga tuhan tunjuk jalan titik terang utk roxana',\n",
       " 'miris anak indonesia sulit guna bahasa indonesa lebih nyaman guna bahasa asing',\n",
       " 'sombong mentang2 kaya pake umum host kaya hitam putih trans7',\n",
       " 'parah banget hitam putih trans7 ngomong sembarang rusak generasi muda acara kyk gin',\n",
       " 'orang bangkrut bukan perkara soal uang bangkrut orang sudah punya mimpi bangqomar']"
      ]
     },
     "execution_count": 60,
     "metadata": {},
     "output_type": "execute_result"
    }
   ],
   "source": [
    "stemmed_text"
   ]
  },
  {
   "cell_type": "markdown",
   "metadata": {},
   "source": [
    "## Tokenize"
   ]
  },
  {
   "cell_type": "code",
   "execution_count": 61,
   "metadata": {},
   "outputs": [],
   "source": [
    "token=[]\n",
    "for text in stemmed_text:\n",
    "    token.extend(text.split())"
   ]
  },
  {
   "cell_type": "code",
   "execution_count": 62,
   "metadata": {},
   "outputs": [
    {
     "data": {
      "text/plain": [
       "['undang',\n",
       " 'hitamputih',\n",
       " 'menang',\n",
       " 'ssk',\n",
       " 'jkt48',\n",
       " 'harus',\n",
       " 'mjkt48',\n",
       " 'lebih',\n",
       " 'layak',\n",
       " 'undang',\n",
       " 'prestasi',\n",
       " 'selamat',\n",
       " 'buka',\n",
       " 'puasa',\n",
       " 'moga',\n",
       " 'amal',\n",
       " 'ibadah',\n",
       " 'hari',\n",
       " 'ni',\n",
       " 'terima',\n",
       " 'allah',\n",
       " 'nih',\n",
       " 'trans7',\n",
       " 'hitam',\n",
       " 'putih',\n",
       " 'dpt',\n",
       " 'harga',\n",
       " 'di',\n",
       " 'norwegia',\n",
       " 'selamat',\n",
       " 'mas',\n",
       " 'masuk',\n",
       " 'hitamputih',\n",
       " 'asiknya',\n",
       " 'nonton',\n",
       " 'hitam',\n",
       " 'putih',\n",
       " 'trans7',\n",
       " 'acara',\n",
       " 'paling',\n",
       " 'komplit',\n",
       " 'tarik',\n",
       " 'ada',\n",
       " 'hitam',\n",
       " 'putih',\n",
       " 'hitam',\n",
       " 'putih',\n",
       " 't7',\n",
       " 'inspiratif',\n",
       " 'banget',\n",
       " 'suka',\n",
       " 'banget',\n",
       " 'acara',\n",
       " 'hitam',\n",
       " 'putih',\n",
       " 'keren',\n",
       " 'bro',\n",
       " 'tadi',\n",
       " 'yg',\n",
       " 'liat',\n",
       " 'hitam',\n",
       " 'putih',\n",
       " 'trans7',\n",
       " 'ga',\n",
       " 'sanggu',\n",
       " 'ganteng',\n",
       " 'hitam',\n",
       " 'putih',\n",
       " 'bego',\n",
       " 'haruka',\n",
       " 'undang',\n",
       " 'bentar',\n",
       " 'biar',\n",
       " 'pd',\n",
       " 'liat',\n",
       " 'younglex',\n",
       " 'udah',\n",
       " 'gt',\n",
       " 'malah',\n",
       " 'hina',\n",
       " 'bego',\n",
       " 'miris',\n",
       " 'liat',\n",
       " 'perintah',\n",
       " 'juara',\n",
       " 'angkat',\n",
       " 'berat',\n",
       " 'seasia',\n",
       " 'tp',\n",
       " 'tdk',\n",
       " 'biaya',\n",
       " 'ikut',\n",
       " 'kejurnas',\n",
       " 'juara',\n",
       " 'angkat',\n",
       " 'berat',\n",
       " 'seasia',\n",
       " 'tdk',\n",
       " 'terima',\n",
       " 'hadiah',\n",
       " 'tidak',\n",
       " 'ikut',\n",
       " 'kejurnas',\n",
       " 'kendala',\n",
       " 'biaya',\n",
       " 'haruka',\n",
       " 'kali',\n",
       " 'kalau',\n",
       " 'undang',\n",
       " 'hitam',\n",
       " 'putih',\n",
       " 'tolak',\n",
       " 'aja',\n",
       " 'hostnya',\n",
       " 'ga',\n",
       " 'harga',\n",
       " 'kamu',\n",
       " 'asa',\n",
       " 'aneh',\n",
       " 'nonton',\n",
       " 'acara',\n",
       " 'hitam',\n",
       " 'putih',\n",
       " 'tonton',\n",
       " 'nya',\n",
       " 'anak',\n",
       " 'sekolah',\n",
       " 'sekolah',\n",
       " 'sedih',\n",
       " 'dengar',\n",
       " 'curhatanmu',\n",
       " 'roxana',\n",
       " 'moga',\n",
       " 'tuhan',\n",
       " 'tunjuk',\n",
       " 'jalan',\n",
       " 'titik',\n",
       " 'terang',\n",
       " 'utk',\n",
       " 'roxana',\n",
       " 'miris',\n",
       " 'anak',\n",
       " 'indonesia',\n",
       " 'sulit',\n",
       " 'guna',\n",
       " 'bahasa',\n",
       " 'indonesa',\n",
       " 'lebih',\n",
       " 'nyaman',\n",
       " 'guna',\n",
       " 'bahasa',\n",
       " 'asing',\n",
       " 'sombong',\n",
       " 'mentang2',\n",
       " 'kaya',\n",
       " 'pake',\n",
       " 'umum',\n",
       " 'host',\n",
       " 'kaya',\n",
       " 'hitam',\n",
       " 'putih',\n",
       " 'trans7',\n",
       " 'parah',\n",
       " 'banget',\n",
       " 'hitam',\n",
       " 'putih',\n",
       " 'trans7',\n",
       " 'ngomong',\n",
       " 'sembarang',\n",
       " 'rusak',\n",
       " 'generasi',\n",
       " 'muda',\n",
       " 'acara',\n",
       " 'kyk',\n",
       " 'gin',\n",
       " 'orang',\n",
       " 'bangkrut',\n",
       " 'bukan',\n",
       " 'perkara',\n",
       " 'soal',\n",
       " 'uang',\n",
       " 'bangkrut',\n",
       " 'orang',\n",
       " 'sudah',\n",
       " 'punya',\n",
       " 'mimpi',\n",
       " 'bangqomar']"
      ]
     },
     "execution_count": 62,
     "metadata": {},
     "output_type": "execute_result"
    }
   ],
   "source": [
    "token"
   ]
  }
 ],
 "metadata": {
  "interpreter": {
   "hash": "8164b79054baafd32ac16b5e9f459bd79fbb7f855c6bedf6f48d0e0c944eb799"
  },
  "kernelspec": {
   "display_name": "Python 3 (ipykernel)",
   "language": "python",
   "name": "python3"
  },
  "language_info": {
   "codemirror_mode": {
    "name": "ipython",
    "version": 3
   },
   "file_extension": ".py",
   "mimetype": "text/x-python",
   "name": "python",
   "nbconvert_exporter": "python",
   "pygments_lexer": "ipython3",
   "version": "3.9.12"
  }
 },
 "nbformat": 4,
 "nbformat_minor": 2
}
